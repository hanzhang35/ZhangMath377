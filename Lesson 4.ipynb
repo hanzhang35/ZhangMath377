{
 "cells": [
  {
   "cell_type": "markdown",
   "metadata": {},
   "source": [
    "Han Zhang/Practical Applications"
   ]
  },
  {
   "cell_type": "markdown",
   "metadata": {},
   "source": [
    "Problem 1: Utilize variables to recreate a sentence using a combination of string variables and strings."
   ]
  },
  {
   "cell_type": "code",
   "execution_count": 2,
   "metadata": {},
   "outputs": [
    {
     "name": "stdout",
     "output_type": "stream",
     "text": [
      "I am Han Zhang. I am 20 years old. I'm from Dothan, Alabama.\n"
     ]
    }
   ],
   "source": [
    "name = 'Han Zhang'\n",
    "age = '20'\n",
    "hometown = 'Dothan, Alabama'\n",
    "intro = \"I am \" + name + \". I am \" + age + \" years old. I'm from \" + hometown + \".\"\n",
    "print(intro)"
   ]
  },
  {
   "cell_type": "code",
   "execution_count": 3,
   "metadata": {},
   "outputs": [
    {
     "name": "stdout",
     "output_type": "stream",
     "text": [
      "han zhang\n"
     ]
    }
   ],
   "source": [
    "#part a: use the 'lower()' string method to make name variable lower case\n",
    "name = name.lower()\n",
    "print(name.lower())"
   ]
  },
  {
   "cell_type": "code",
   "execution_count": 4,
   "metadata": {
    "scrolled": true
   },
   "outputs": [
    {
     "name": "stdout",
     "output_type": "stream",
     "text": [
      "Han Zhang\n"
     ]
    }
   ],
   "source": [
    "#part b: use 'title()' string method to make name a proper noun\n",
    "name = name.title()\n",
    "print(name.title())"
   ]
  },
  {
   "cell_type": "markdown",
   "metadata": {},
   "source": [
    "Problem 2: Use the 'replace' method to replace all\"I am\" with \"he is\" and \"I'm\" with \"he's\""
   ]
  },
  {
   "cell_type": "code",
   "execution_count": 33,
   "metadata": {},
   "outputs": [
    {
     "name": "stdout",
     "output_type": "stream",
     "text": [
      "He is Han Zhang. He is 20 years old. He's from Dothan, Alabama.\n"
     ]
    }
   ],
   "source": [
    "remix = intro\n",
    "remix = remix.replace(\"I am\", \"He is\")\n",
    "remix = remix.replace(\"I'm\", \"He's\")\n",
    "print(remix)"
   ]
  },
  {
   "cell_type": "markdown",
   "metadata": {},
   "source": [
    "Problem 3: Return a Boolean response indicating whether thelength of the original sentence in Problem 1 is greater than the age + 40"
   ]
  },
  {
   "cell_type": "code",
   "execution_count": 36,
   "metadata": {},
   "outputs": [
    {
     "data": {
      "text/plain": [
       "True"
      ]
     },
     "execution_count": 36,
     "metadata": {},
     "output_type": "execute_result"
    }
   ],
   "source": [
    "length = len(intro)\n",
    "length2 = int(age) + 40\n",
    "length > length2"
   ]
  }
 ],
 "metadata": {
  "kernelspec": {
   "display_name": "Python 3",
   "language": "python",
   "name": "python3"
  },
  "language_info": {
   "codemirror_mode": {
    "name": "ipython",
    "version": 3
   },
   "file_extension": ".py",
   "mimetype": "text/x-python",
   "name": "python",
   "nbconvert_exporter": "python",
   "pygments_lexer": "ipython3",
   "version": "3.6.5"
  }
 },
 "nbformat": 4,
 "nbformat_minor": 2
}
