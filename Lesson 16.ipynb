{
 "cells": [
  {
   "cell_type": "code",
   "execution_count": 1,
   "metadata": {},
   "outputs": [],
   "source": [
    "from datascience import *\n",
    "import numpy as np\n",
    "from math import *"
   ]
  },
  {
   "cell_type": "markdown",
   "metadata": {},
   "source": [
    "## Joint Distributions"
   ]
  },
  {
   "cell_type": "markdown",
   "metadata": {},
   "source": [
    "Recall from Lessons 13 & 14: let $X$ be a random variable. $X$ has a distribution that is described by a probability mass function (pmf) or probability density function (pdf). \n",
    "\n",
    "We can consider multiple random variables simultaneously using joint distributions. \n",
    "\n",
    "NOTE: When answering the questions below, you are not required to use Python. If you would like to answer in Markdown, feel free to change the type of the cell, or to use both types of cells. "
   ]
  },
  {
   "cell_type": "markdown",
   "metadata": {},
   "source": [
    "#### Example 1: Discrete Joint Distribution"
   ]
  },
  {
   "cell_type": "markdown",
   "metadata": {},
   "source": [
    "Let $X$ and $Y$ be discrete random variables that can each only take the values 1, 2, or 3 and do so according to the following distribution:"
   ]
  },
  {
   "cell_type": "markdown",
   "metadata": {},
   "source": [
    "\n",
    " |  | $X$  | 1 | 2 | 3 |\n",
    " |-- | ------ | ------ |\n",
    " |  | 1 | 0.17 | 0.15 | 0.08 |\n",
    " | $Y$ | 2 | 0.00 | 0.10 | 0.10 |\n",
    " |  | 3 | 0.08 | 0.20 | 0.12 |\n",
    " \n"
   ]
  },
  {
   "cell_type": "markdown",
   "metadata": {},
   "source": [
    "This is an example of a joint probability mass function (joint pmf), and is denoted as $f_{X,Y}(x,y)$. \n",
    "\n",
    "For example, the probability that $X$ takes the value 1 AND $Y$ takes the value 3, or $P(X=1,Y=3)$ is equal to 0.08. "
   ]
  },
  {
   "cell_type": "markdown",
   "metadata": {},
   "source": [
    "**_1.1_** Find $P(X = 2,Y=3)$. \n",
    "\n",
    "**_1.2_** Find $E(X+Y)$. "
   ]
  },
  {
   "cell_type": "code",
   "execution_count": 19,
   "metadata": {},
   "outputs": [
    {
     "name": "stdout",
     "output_type": "stream",
     "text": [
      "Problem 1.1\n",
      "By looking at the graph, yoou can see the probability is 0.20.\n"
     ]
    }
   ],
   "source": [
    "print('Problem 1.1')\n",
    "print('By looking at the graph, yoou can see the probability is 0.20.')"
   ]
  },
  {
   "cell_type": "code",
   "execution_count": 18,
   "metadata": {},
   "outputs": [
    {
     "name": "stdout",
     "output_type": "stream",
     "text": [
      "Problem 1.2\n",
      "This is solved by \"brute force\". This is E(X+Y) is the sum of (X+Y)*f(x,y)\n",
      "E(X+Y) is 4.05\n"
     ]
    }
   ],
   "source": [
    "print('Problem 1.2')\n",
    "print('This is solved by \"brute force\". This is E(X+Y) is the sum of (X+Y)*f(x,y)')\n",
    "print('E(X+Y) is ' + str(2*(0.17)+3*(0.00+0.15)+4*(0.08+0.10+0.08)+5*(0.10+0.20)+6*(0.12)))"
   ]
  },
  {
   "cell_type": "markdown",
   "metadata": {},
   "source": [
    "### Marginal Probability"
   ]
  },
  {
   "cell_type": "markdown",
   "metadata": {},
   "source": [
    "When given a joint pmf like this, we may want to know the distribution of $X$ or $Y$ individually. Specifically, we might want to know $P(X=1)$ or $f_Y(y)$. \n",
    "\n",
    "Marginal probability can be found by summing across the remaining variable. Specifically,\n",
    "\n",
    "$$\n",
    "f_X(x)=\\sum_y f_{X,Y}(x,y)\n",
    "$$\n",
    "and \n",
    "$$\n",
    "f_Y(y)=\\sum_x f_{X,Y}(x,y)\n",
    "$$\n"
   ]
  },
  {
   "cell_type": "markdown",
   "metadata": {},
   "source": [
    "**_1.3_** Find $P(X=2)$. \n",
    "\n",
    "**_1.4_** Find $f_Y(y)$ (the marginal pmf of $Y$). \n",
    "\n",
    "**_1.5_** Find $E(Y)$ and $V(Y)$. "
   ]
  },
  {
   "cell_type": "code",
   "execution_count": 17,
   "metadata": {},
   "outputs": [
    {
     "name": "stdout",
     "output_type": "stream",
     "text": [
      "Problem 1.3\n",
      "P(X=2) = 0.45\n",
      "The sum of the X =2 column probabilities.\n"
     ]
    }
   ],
   "source": [
    "print('Problem 1.3')\n",
    "print('P(X=2) = ' + str(0.15+0.10+0.20))\n",
    "print('The sum of the X =2 column probabilities.')"
   ]
  },
  {
   "cell_type": "code",
   "execution_count": 23,
   "metadata": {
    "scrolled": true
   },
   "outputs": [
    {
     "name": "stdout",
     "output_type": "stream",
     "text": [
      "Problem 1.4\n",
      "0.4, y=1\n",
      "0.2, y=2\n",
      "0.4, y=3\n"
     ]
    }
   ],
   "source": [
    "print('Problem 1.4')\n",
    "#probability y=1\n",
    "y1 = (0.17+0.15+0.08)\n",
    "print(str(y1) + ', y=1')\n",
    "#probability y=2\n",
    "y2 = 0.00+0.10+0.10\n",
    "print(str(y2) + ', y=2')\n",
    "#probability y=3\n",
    "y3 = 0.08+0.20+0.12\n",
    "print(str(y3) + ', y=3')"
   ]
  },
  {
   "cell_type": "code",
   "execution_count": 15,
   "metadata": {},
   "outputs": [
    {
     "name": "stdout",
     "output_type": "stream",
     "text": [
      "Problem 1.5\n",
      "E(Y) = 2.0\n",
      "V(Y) = 0.8\n"
     ]
    }
   ],
   "source": [
    "print('Problem 1.5')\n",
    "#E(Y)\n",
    "EY = 1*(0.17+0.15+0.08) + 2*(0+0.10+0.10) + 3*(0.08+0.20+.12)\n",
    "print('E(Y) = ' + str(EY))\n",
    "#V(Y)\n",
    "VY = ((1-2)**2)*(0.17+0.15+0.08) + ((2-2)**2)*(0+0.10+0.10) + ((3-2)**2)*(0.08+0.20+0.12)\n",
    "print('V(Y) = ' + str(VY))"
   ]
  },
  {
   "cell_type": "markdown",
   "metadata": {},
   "source": [
    "### Conditional Probability\n",
    "\n",
    "We may be interested in the probability $X$ takes a specific value conditioned on the value of $Y$. Recall that conditional probability is given by $P(A|B)=\\frac{P(A,B)}{P(B)}$. \n",
    "\n",
    "So, essentially, conditional probability can be found by dividing the joint probability by the appropriate marginal probability. "
   ]
  },
  {
   "cell_type": "markdown",
   "metadata": {},
   "source": [
    "**_1.6_** Find $P(Y=1|X=3)$. \n",
    "\n",
    "**_1.7_** Find $f_{X|Y=2}(x)$, the conditional pmf of $X$, given $Y=2$. \n",
    "\n",
    "**_1.8_** Find $E(X|Y=2)$ and $V(X|Y=2)$. "
   ]
  },
  {
   "cell_type": "code",
   "execution_count": 20,
   "metadata": {
    "scrolled": true
   },
   "outputs": [
    {
     "name": "stdout",
     "output_type": "stream",
     "text": [
      "Problem 1.6\n",
      "The probability that y=1 given that x=3 is 0.267\n"
     ]
    }
   ],
   "source": [
    "print('Problem 1.6')\n",
    "#probability that y=1 given that x=3\n",
    "prob_at_yis1_xis3 = 0.08\n",
    "prob_xis3 = (0.08+0.10+0.12)\n",
    "yis1_given_xis3 = np.round(prob_at_yis1_xis3/prob_xis3 ,3)\n",
    "print('The probability that y=1 given that x=3 is ' + str(yis1_given_xis3))"
   ]
  },
  {
   "cell_type": "code",
   "execution_count": 30,
   "metadata": {},
   "outputs": [
    {
     "name": "stdout",
     "output_type": "stream",
     "text": [
      "Problem 1.7\n",
      "0.0, x=1\n",
      "0.5, x=2\n",
      "0.5, x=3\n"
     ]
    }
   ],
   "source": [
    "print('Problem 1.7')\n",
    "\n",
    "fy_2 = 0.1+0.1 #the probability Y=2\n",
    "\n",
    "#probability X=1 and Y=2\n",
    "x1 = 0/fy_2\n",
    "print(str(x1) + ', x=1')\n",
    "#probability X=2 and Y=2\n",
    "x2 = 0.1/fy_2\n",
    "print(str(x2) + ', x=2')\n",
    "#probability X=3 and Y=2\n",
    "x3 = 0.1/fy_2\n",
    "print(str(x3) + ', x=3')"
   ]
  },
  {
   "cell_type": "code",
   "execution_count": 35,
   "metadata": {},
   "outputs": [
    {
     "name": "stdout",
     "output_type": "stream",
     "text": [
      "Problem 1.8\n",
      "E(X|Y=2) = 2.5\n",
      "V(X|Y=2) = 0.25\n"
     ]
    }
   ],
   "source": [
    "print('Problem 1.8')\n",
    "\n",
    "EX = (1*x1)+(2*x2)+(3*x3)\n",
    "print('E(X|Y=2) = ' + str(EX))\n",
    "\n",
    "VX = ((1-EX)**2*x1)+((2-EX)**2*x2)+((3-EX)**2*x3)\n",
    "print('V(X|Y=2) = ' + str(VX))"
   ]
  },
  {
   "cell_type": "markdown",
   "metadata": {},
   "source": [
    "**_1.9_** Are $X$ and $Y$ independent? Why or why not? "
   ]
  },
  {
   "cell_type": "markdown",
   "metadata": {},
   "source": [
    "Yes."
   ]
  },
  {
   "cell_type": "markdown",
   "metadata": {},
   "source": [
    "### Covariance and Correlation\n",
    "\n",
    "Expected value and variance help us characterize $X$ and $Y$ marginally and conditionally, but we may also be interested in measuring the relationship between $X$ and $Y$. For this, we use *covariance*. \n",
    "\n",
    "$$\n",
    "Cov(X,Y)=E[(X-E(X))(Y-E(Y))] = E(XY)-E(X)E(Y)\n",
    "$$\n",
    "\n",
    "Note that if $X$ and $Y$ are independent, $Cov(X,Y) =0$. The converse is NOT necessarily true. \n",
    "\n",
    "Covariance is dependent on the scales of $X$ and $Y$, so if the two variables are of vastly different scale, we'll want to use covariance's unitless counterpart, correlation, denoted by $\\rho$. \n",
    "\n",
    "$$\n",
    "\\rho = \\frac{Cov(X,Y)}{\\sqrt{Var(X)Var(Y)}}\n",
    "$$\n",
    "\n",
    "$\\rho$ is bounded by the interval $[-1,1]$. When $\\rho=1$, $X$ and $Y$ are perfectly positively correlated. Similarly, when $\\rho=-1$, $X$ and $Y$ are perfectly negatively correlated. "
   ]
  },
  {
   "cell_type": "markdown",
   "metadata": {},
   "source": [
    "**_1.10_** Find $Cov(X,Y)$\n",
    "\n",
    "**_1.11_** Find $Corr(X,Y)$, or $\\rho$. "
   ]
  },
  {
   "cell_type": "code",
   "execution_count": 41,
   "metadata": {},
   "outputs": [
    {
     "name": "stdout",
     "output_type": "stream",
     "text": [
      "Problem 1.10\n",
      "Cov(X,Y) = E(XY)-E(X)E(Y)\n",
      "Cov(X,Y) = 0.13\n"
     ]
    }
   ],
   "source": [
    "print('Problem 1.10')\n",
    "print('Cov(X,Y) = E(XY)-E(X)E(Y)')\n",
    "E_XY = (1*0.17)+(2*(0+.15))+(3*(.08+.08))+(4*(.10))+(6*(.2+.1))+(9*(.12))\n",
    "EX = 1*(.17+.08)+2*(.15+.1+.2)+3*(.08+.1+.12)\n",
    "EY = 1*(.17+.15+.08)+2*(.1+.1)+3*(.08+.2+.12)\n",
    "Cov_XY = E_XY-EX*EY\n",
    "print('Cov(X,Y) = ' + str(round(Cov_XY,2)))"
   ]
  },
  {
   "cell_type": "code",
   "execution_count": 48,
   "metadata": {},
   "outputs": [
    {
     "name": "stdout",
     "output_type": "stream",
     "text": [
      "Problem 1.11\n",
      "Corr(X,Y) = Cov(X,Y)/sqrt(Var(X)Var(Y))\n",
      "Corr(X,Y) = 0.1964293126950385\n"
     ]
    }
   ],
   "source": [
    "print('Problem 1.11')\n",
    "print('Corr(X,Y) = Cov(X,Y)/sqrt(Var(X)Var(Y))')\n",
    "VX = (1-EX)**2*(0.17+.08)+(2-EX)**2*(.15+.1+.2)+(3-EX)**2*(.08+.1+.12)\n",
    "VY = (1-EY)**2*(0.17+.15+.08)+(2-EY)**2*(.1+.1)+(3-EY)**2*(.08+.2+.12)\n",
    "Corr_XY = Cov_XY/((VX*VY)**.5)\n",
    "print('Corr(X,Y) = ' + str(Corr_XY))"
   ]
  },
  {
   "cell_type": "markdown",
   "metadata": {},
   "source": [
    "In problem 1.2, we found $E(X+Y)$. In order to find $Var(X+Y)$, we need to know how $X$ and $Y$ are correlated: \n",
    "\n",
    "$$\n",
    "Var(X+Y)= Var(X)+Var(Y)+2*Cov(X,Y)\n",
    "$$"
   ]
  },
  {
   "cell_type": "markdown",
   "metadata": {},
   "source": [
    "**_1.12_** Find $Var(X+Y)$. "
   ]
  },
  {
   "cell_type": "code",
   "execution_count": 49,
   "metadata": {},
   "outputs": [
    {
     "name": "stdout",
     "output_type": "stream",
     "text": [
      "Var(X + Y) = 1.6075000000000017\n"
     ]
    }
   ],
   "source": [
    "print('Var(X + Y) = ' + str(VX+VY+2*Cov_XY))"
   ]
  },
  {
   "cell_type": "markdown",
   "metadata": {},
   "source": [
    "#### Example 2: Continuous Joint Distribution\n",
    "\n",
    "All of the concepts above apply to continuous random variables. Consider continuous random variables $X$ and $Y$ with the following joint pdf:\n",
    "\n",
    "$$\n",
    "f_{X,Y}(x,y)=k(x+y)\n",
    "$$\n",
    "\n",
    "where both $x$ and $y$ are bounded by the interval $[0,1]$. "
   ]
  },
  {
   "cell_type": "markdown",
   "metadata": {},
   "source": [
    "**_2.1_** Find the value of $k$ that makes $f$ a valid joint pdf. "
   ]
  },
  {
   "cell_type": "markdown",
   "metadata": {},
   "source": [
    "If you take the integrals of the function with respect to x and y, you're left with k. Since the double integral has to equal 1, k must equal 1."
   ]
  },
  {
   "cell_type": "markdown",
   "metadata": {},
   "source": [
    "**_2.2_** Find $P(X<0.5,Y<0.5)$"
   ]
  },
  {
   "cell_type": "markdown",
   "metadata": {},
   "source": [
    "The probability the X and Y are less than  0.5 is 0.125.\n",
    "This was found by taking a double integral. First, the integral of the joint pdf from 0 to 0.5 in respect to y, and then the integral of that answer from 0 to 0.5 in respect to x."
   ]
  },
  {
   "cell_type": "markdown",
   "metadata": {},
   "source": [
    "**_2.3_** Find $f_X(x)$ and $f_Y(y)$, the marginal pdfs of $X$ and $Y$. \n",
    "\n",
    "**_2.4_** Find $E(X)$ and $E(Y)$. "
   ]
  },
  {
   "cell_type": "code",
   "execution_count": 64,
   "metadata": {},
   "outputs": [],
   "source": [
    "#Marginal pdf of X\n",
    "def margX(x):\n",
    "    return x+.5\n",
    "#Marginal pdf of Y\n",
    "def margY(y):\n",
    "    return y+.5"
   ]
  },
  {
   "cell_type": "code",
   "execution_count": 52,
   "metadata": {},
   "outputs": [],
   "source": [
    "import scipy as sp\n",
    "import numpy as np"
   ]
  },
  {
   "cell_type": "code",
   "execution_count": 69,
   "metadata": {},
   "outputs": [
    {
     "name": "stdout",
     "output_type": "stream",
     "text": [
      "Problem 2.3\n",
      "E(X) = 0.583\n",
      "E(Y) = 0.583\n"
     ]
    }
   ],
   "source": [
    "print('Problem 2.3')\n",
    "k=1\n",
    "EX = sp.integrate.dblquad(lambda x, y: k*(x+y)*x, 0, 1, lambda x: 0, lambda x: 1)[0]\n",
    "EY = sp.integrate.dblquad(lambda x, y: k*(x+y)*y, 0, 1, lambda x: 0, lambda x: 1)[0]\n",
    "print('E(X) = ' + str(round(EX,3)))\n",
    "print('E(Y) = ' + str(round(EY,3)))"
   ]
  },
  {
   "cell_type": "markdown",
   "metadata": {},
   "source": [
    "**_2.5_** Find $P(X>0.5\\vert Y\\leq 0.5)$. "
   ]
  },
  {
   "cell_type": "code",
   "execution_count": 71,
   "metadata": {},
   "outputs": [
    {
     "name": "stdout",
     "output_type": "stream",
     "text": [
      "The probability X > 0.5 and Y is <= 0.5 is 0.4\n"
     ]
    }
   ],
   "source": [
    "X_and_Y = sp.integrate.dblquad(lambda x, y: (x+y), 0, 0.5, lambda x: 0.5, lambda x: 1)[0]\n",
    "Y_lessthan_5 = sp.integrate.quad(lambda x: margY(x), 0.5, 1)[0]\n",
    "print('The probability X > 0.5 and Y is <= 0.5 is ' + str(X_and_Y/Y_lessthan_5))"
   ]
  },
  {
   "cell_type": "markdown",
   "metadata": {},
   "source": [
    "**_2.6_** Find the conditional distributions of $X|Y$ and $Y|X$. Recall that conditional distributions can be found by dividing the joint pdf by the relevant marginal pdf. \n",
    "\n",
    "**_2.7_** Find $E(X|Y)$ and $E(Y|X)$."
   ]
  },
  {
   "cell_type": "code",
   "execution_count": 76,
   "metadata": {},
   "outputs": [
    {
     "name": "stdout",
     "output_type": "stream",
     "text": [
      "E(X|Y) = 0.49999999999999994\n",
      "E(Y|X) = 0.49999999999999994\n"
     ]
    }
   ],
   "source": [
    "E_XY = sp.integrate.dblquad(lambda x, y: (1*(x+y)/margX(x))*x, 0, 1, lambda x: 0, lambda x: 1)[0]\n",
    "E_YX = sp.integrate.dblquad(lambda x, y: (1*(x+y)/margY(x))*x, 0, 1, lambda x: 0, lambda x: 1)[0]\n",
    "print('E(X|Y) = ' + str(E_XY))\n",
    "print('E(Y|X) = ' + str(E_YX))"
   ]
  },
  {
   "cell_type": "markdown",
   "metadata": {},
   "source": [
    "**_2.8_** Are $X$ and $Y$ independent? "
   ]
  },
  {
   "cell_type": "markdown",
   "metadata": {},
   "source": [
    "No. E(X|Y) and E(Y|X) are the same."
   ]
  },
  {
   "cell_type": "markdown",
   "metadata": {},
   "source": [
    "**_2.9_** What is $Cov(X,Y)$? "
   ]
  },
  {
   "cell_type": "code",
   "execution_count": 78,
   "metadata": {},
   "outputs": [
    {
     "name": "stdout",
     "output_type": "stream",
     "text": [
      "Cov(X,Y) = 0.9166666666666666\n"
     ]
    }
   ],
   "source": [
    "Cov_XY = sp.integrate.dblquad(lambda x, y: (x+y) - (.5-y)*(.5-y), 0, 1, lambda x: 0, lambda x: 1)[0]\n",
    "print('Cov(X,Y) = ' + str(Cov_XY))"
   ]
  }
 ],
 "metadata": {
  "kernelspec": {
   "display_name": "Python 3",
   "language": "python",
   "name": "python3"
  },
  "language_info": {
   "codemirror_mode": {
    "name": "ipython",
    "version": 3
   },
   "file_extension": ".py",
   "mimetype": "text/x-python",
   "name": "python",
   "nbconvert_exporter": "python",
   "pygments_lexer": "ipython3",
   "version": "3.6.5"
  }
 },
 "nbformat": 4,
 "nbformat_minor": 2
}
